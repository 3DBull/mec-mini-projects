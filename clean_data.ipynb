{
 "cells": [
  {
   "cell_type": "markdown",
   "id": "fc26a1d4-075f-407c-b369-70c300a39e91",
   "metadata": {},
   "source": [
    "# Clean cattle data\n",
    "This script processes cattle images along with the json dataset to get rid of bad data.\n",
    "\n",
    "INSTRUCTIONS\n",
    "Run the following blocks of code before running optional dataset alterations:\n",
    "* Settings\n",
    "* Imports\n",
    "* Load Data\n",
    "\n",
    "After those three blocks are executed any of the other blocks can be excecuted in any order to modify the dataset.<br>\n",
    "Don't forget to save the dataset after making modifications. "
   ]
  },
  {
   "cell_type": "markdown",
   "id": "cfcaf43d-d8be-4736-a6fa-5f39b2e7b631",
   "metadata": {},
   "source": [
    "### Table of Contents\n",
    "\n",
    "* [Setup](#setup)\n",
    "    * [Imports](#imports)\n",
    "    * [Load Data](#loads)\n",
    "* [Funcitons for Handling the Dataset](#functions)\n",
    "    * [Save Dataset](#save)\n",
    "    * [Handling Pictures](#pictures)"
   ]
  },
  {
   "cell_type": "markdown",
   "id": "0893a490-5061-4335-a771-16827361810f",
   "metadata": {},
   "source": [
    "## Run Scraper Program"
   ]
  },
  {
   "cell_type": "code",
   "execution_count": 1,
   "id": "a4171987-4b09-4520-b5a1-7576a641aa5b",
   "metadata": {
    "collapsed": true,
    "jupyter": {
     "outputs_hidden": true
    },
    "tags": []
   },
   "outputs": [
    {
     "name": "stderr",
     "output_type": "stream",
     "text": [
      "2021-11-02 11:02:24.963179: W tensorflow/stream_executor/platform/default/dso_loader.cc:60] Could not load dynamic library 'cudart64_110.dll'; dlerror: cudart64_110.dll not found\n",
      "2021-11-02 11:02:24.963299: I tensorflow/stream_executor/cuda/cudart_stub.cc:29] Ignore above cudart dlerror if you do not have a GPU set up on your machine.\n",
      "[WDM] - \n",
      "\n",
      "[WDM] - ====== WebDriver manager ======\n",
      "[WDM] - Current google-chrome version is 95.0.4638\n",
      "[WDM] - Get LATEST driver version for 95.0.4638\n",
      "[WDM] - Get LATEST driver version for 95.0.4638\n",
      "[WDM] - Trying to download new driver from https://chromedriver.storage.googleapis.com/95.0.4638.54/chromedriver_win32.zip\n",
      "[WDM] - Driver has been saved in cache [C:\\Users\\derek\\.wdm\\drivers\\chromedriver\\win32\\95.0.4638.54]\n",
      "2021-11-02 11:02:29.731703: I tensorflow/compiler/jit/xla_cpu_device.cc:41] Not creating XLA devices, tf_xla_enable_xla_devices not set\n",
      "2021-11-02 11:02:29.732889: I tensorflow/stream_executor/platform/default/dso_loader.cc:49] Successfully opened dynamic library nvcuda.dll\n",
      "2021-11-02 11:02:29.813931: I tensorflow/core/common_runtime/gpu/gpu_device.cc:1720] Found device 0 with properties: \n",
      "pciBusID: 0000:01:00.0 name: NVIDIA GeForce RTX 3090 computeCapability: 8.6\n",
      "coreClock: 1.8GHz coreCount: 82 deviceMemorySize: 24.00GiB deviceMemoryBandwidth: 871.81GiB/s\n",
      "2021-11-02 11:02:29.813977: I tensorflow/core/common_runtime/gpu/gpu_device.cc:1720] Found device 1 with properties: \n",
      "pciBusID: 0000:03:00.0 name: NVIDIA GeForce RTX 3080 computeCapability: 8.6\n",
      "coreClock: 1.755GHz coreCount: 68 deviceMemorySize: 10.00GiB deviceMemoryBandwidth: 707.88GiB/s\n",
      "2021-11-02 11:02:29.813991: I tensorflow/core/common_runtime/gpu/gpu_device.cc:1720] Found device 2 with properties: \n",
      "pciBusID: 0000:04:00.0 name: NVIDIA GeForce RTX 3060 computeCapability: 8.6\n",
      "coreClock: 1.882GHz coreCount: 28 deviceMemorySize: 12.00GiB deviceMemoryBandwidth: 335.32GiB/s\n",
      "2021-11-02 11:02:29.814003: I tensorflow/core/common_runtime/gpu/gpu_device.cc:1720] Found device 3 with properties: \n"
     ]
    },
    {
     "name": "stdout",
     "output_type": "stream",
     "text": [
      "C:\\Users\\derek\\OneDrive\\Documents\\Machine_Learning\\Cow_Segmenation\n",
      "Could not get element\n",
      "Message: no such element: Unable to locate element: {\"method\":\"xpath\",\"selector\":\"//input[@value=\"View Only\"]\"}\n",
      "  (Session info: chrome=95.0.4638.69)\n",
      "Stacktrace:\n",
      "Backtrace:\n",
      "\tOrdinal0 [0x003306F3+2492147]\n",
      "\tOrdinal0 [0x002C9BD1+2071505]\n",
      "\tOrdinal0 [0x001D2478+1057912]\n",
      "\tOrdinal0 [0x001FC964+1231204]\n",
      "\tOrdinal0 [0x00226B62+1403746]\n",
      "\tOrdinal0 [0x002157FA+1333242]\n",
      "\tOrdinal0 [0x00224F38+1396536]\n",
      "\tOrdinal0 [0x0021568B+1332875]\n",
      "\tOrdinal0 [0x001F21D4+1188308]\n",
      "\tOrdinal0 [0x001F302F+1191983]\n",
      "\tGetHandleVerifier [0x004B67A6+1545030]\n",
      "\tGetHandleVerifier [0x0056105C+2243580]\n",
      "\tGetHandleVerifier [0x003BBC97+518199]\n",
      "\tGetHandleVerifier [0x003BAD80+514336]\n",
      "\tOrdinal0 [0x002CED2D+2092333]\n",
      "\tOrdinal0 [0x002D2EE8+2109160]\n",
      "\tOrdinal0 [0x002D3022+2109474]\n",
      "\tOrdinal0 [0x002DCB71+2149233]\n",
      "\tBaseThreadInitThunk [0x7570FA29+25]\n",
      "\tRtlGetAppContainerNamedObjectPath [0x76F57A9E+286]\n",
      "\tRtlGetAppContainerNamedObjectPath [0x76F57A6E+238]\n",
      "\t(No symbol) [0x00000000]\n",
      "\n"
     ]
    },
    {
     "name": "stderr",
     "output_type": "stream",
     "text": [
      "pciBusID: 0000:05:00.0 name: NVIDIA GeForce RTX 3060 computeCapability: 8.6\n",
      "coreClock: 1.807GHz coreCount: 28 deviceMemorySize: 12.00GiB deviceMemoryBandwidth: 335.32GiB/s\n",
      "2021-11-02 11:02:29.814404: W tensorflow/stream_executor/platform/default/dso_loader.cc:60] Could not load dynamic library 'cudart64_110.dll'; dlerror: cudart64_110.dll not found\n",
      "2021-11-02 11:02:29.814730: W tensorflow/stream_executor/platform/default/dso_loader.cc:60] Could not load dynamic library 'cublas64_11.dll'; dlerror: cublas64_11.dll not found\n",
      "2021-11-02 11:02:29.815017: W tensorflow/stream_executor/platform/default/dso_loader.cc:60] Could not load dynamic library 'cublasLt64_11.dll'; dlerror: cublasLt64_11.dll not found\n",
      "2021-11-02 11:02:29.815301: W tensorflow/stream_executor/platform/default/dso_loader.cc:60] Could not load dynamic library 'cufft64_10.dll'; dlerror: cufft64_10.dll not found\n",
      "2021-11-02 11:02:29.815607: W tensorflow/stream_executor/platform/default/dso_loader.cc:60] Could not load dynamic library 'curand64_10.dll'; dlerror: curand64_10.dll not found\n",
      "2021-11-02 11:02:29.815882: W tensorflow/stream_executor/platform/default/dso_loader.cc:60] Could not load dynamic library 'cusolver64_10.dll'; dlerror: cusolver64_10.dll not found\n",
      "2021-11-02 11:02:29.816157: W tensorflow/stream_executor/platform/default/dso_loader.cc:60] Could not load dynamic library 'cusparse64_11.dll'; dlerror: cusparse64_11.dll not found\n",
      "2021-11-02 11:02:29.816434: W tensorflow/stream_executor/platform/default/dso_loader.cc:60] Could not load dynamic library 'cudnn64_8.dll'; dlerror: cudnn64_8.dll not found\n",
      "2021-11-02 11:02:29.816440: W tensorflow/core/common_runtime/gpu/gpu_device.cc:1757] Cannot dlopen some GPU libraries. Please make sure the missing libraries mentioned above are installed properly if you would like to use GPU. Follow the guide at https://www.tensorflow.org/install/gpu for how to download and setup the required libraries for your platform.\n",
      "Skipping registering GPU devices...\n",
      "2021-11-02 11:02:29.817484: I tensorflow/core/platform/cpu_feature_guard.cc:142] This TensorFlow binary is optimized with oneAPI Deep Neural Network Library (oneDNN) to use the following CPU instructions in performance-critical operations:  AVX2\n",
      "To enable them in other operations, rebuild TensorFlow with the appropriate compiler flags.\n",
      "2021-11-02 11:02:29.818704: I tensorflow/core/common_runtime/gpu/gpu_device.cc:1261] Device interconnect StreamExecutor with strength 1 edge matrix:\n",
      "2021-11-02 11:02:29.818711: I tensorflow/core/common_runtime/gpu/gpu_device.cc:1267]      \n",
      "2021-11-02 11:02:29.818720: I tensorflow/compiler/jit/xla_gpu_device.cc:99] Not creating XLA devices, tf_xla_enable_xla_devices not set\n",
      "WARNING:tensorflow:No training configuration found in the save file, so the model was *not* compiled. Compile it manually.\n"
     ]
    }
   ],
   "source": [
    "!python C:/Users/derek/OneDrive/Documents/Machine_Learning/webscrape/scraper.py rimby"
   ]
  },
  {
   "cell_type": "markdown",
   "id": "8bd7ef19-ede2-4ef3-b7ba-8d9d8dcfebb9",
   "metadata": {},
   "source": [
    "# Setup <a class=\"anchor\" id=\"setup\"></a>\n",
    "\n",
    "Note:\n",
    ">The DATABASE_LOCATION is the address to a shortcut which points to the external drive containing the data.<br>\n",
    ">This is a work-around since Jupyter does not support accessing files from another drive."
   ]
  },
  {
   "cell_type": "code",
   "execution_count": 1,
   "id": "89e635ae-e996-474b-921d-70079e53ad6d",
   "metadata": {},
   "outputs": [],
   "source": [
    "DELETE_NON_COW_IMG = True\n",
    "ADD_DATA_COLUM = False\n",
    "DATABASE_LOCATION = 'C:/Users/derek/Documents/cattle_data'\n",
    "INPUT_PATH = DATABASE_LOCATION+'/img'\n",
    "OUTPUT_PATH = DATABASE_LOCATION+'/out'\n",
    "DATASET = 'cattle_data.json'"
   ]
  },
  {
   "cell_type": "markdown",
   "id": "4e82c2ac-0ead-4e2e-a1e2-9ce3723f1777",
   "metadata": {},
   "source": [
    "### Imports <a class=\"anchor\" id=\"imports\"></a>"
   ]
  },
  {
   "cell_type": "code",
   "execution_count": 11,
   "id": "210afeb7-0266-4497-9c76-5d1776a8b2fe",
   "metadata": {
    "tags": []
   },
   "outputs": [
    {
     "name": "stdout",
     "output_type": "stream",
     "text": [
      "Loaded 20816 datapoints!\n"
     ]
    }
   ],
   "source": [
    "from imageai.Detection import ObjectDetection\n",
    "import os\n",
    "import pandas as pd\n",
    "import json\n",
    "from yolo import Predictor\n",
    "from time import time\n",
    "import cv2\n"
   ]
  },
  {
   "cell_type": "markdown",
   "id": "6a238aa0-8bf9-4976-95bb-97f7ecede4f4",
   "metadata": {},
   "source": [
    "### Load Data <a class=\"anchor\" id=\"loads\"></a>"
   ]
  },
  {
   "cell_type": "code",
   "execution_count": 68,
   "id": "9ef75d24-7e0d-4c71-b488-f4c08858bba3",
   "metadata": {},
   "outputs": [
    {
     "name": "stdout",
     "output_type": "stream",
     "text": [
      "Loaded 20816 datapoints!\n"
     ]
    }
   ],
   "source": [
    "#load the dataset\n",
    "with open(os.path.join(DATABASE_LOCATION, DATASET), 'r') as file:\n",
    "    frame = json.load(file)\n",
    "df = pd.DataFrame(frame)\n",
    "print('Loaded {} datapoints!'.format(len(df)))"
   ]
  },
  {
   "cell_type": "code",
   "execution_count": 70,
   "id": "24fc1eda-31a1-42f5-9b4a-16a9751a07ff",
   "metadata": {
    "collapsed": true,
    "jupyter": {
     "outputs_hidden": true
    },
    "tags": []
   },
   "outputs": [
    {
     "name": "stdout",
     "output_type": "stream",
     "text": [
      "loading weights of convolution #0\n",
      "loading weights of convolution #1\n",
      "loading weights of convolution #2\n",
      "loading weights of convolution #3\n",
      "no convolution #4\n",
      "loading weights of convolution #5\n",
      "loading weights of convolution #6\n",
      "loading weights of convolution #7\n",
      "no convolution #8\n",
      "loading weights of convolution #9\n",
      "loading weights of convolution #10\n",
      "no convolution #11\n",
      "loading weights of convolution #12\n",
      "loading weights of convolution #13\n",
      "loading weights of convolution #14\n",
      "no convolution #15\n",
      "loading weights of convolution #16\n",
      "loading weights of convolution #17\n",
      "no convolution #18\n",
      "loading weights of convolution #19\n",
      "loading weights of convolution #20\n",
      "no convolution #21\n",
      "loading weights of convolution #22\n",
      "loading weights of convolution #23\n",
      "no convolution #24\n",
      "loading weights of convolution #25\n",
      "loading weights of convolution #26\n",
      "no convolution #27\n",
      "loading weights of convolution #28\n",
      "loading weights of convolution #29\n",
      "no convolution #30\n",
      "loading weights of convolution #31\n",
      "loading weights of convolution #32\n",
      "no convolution #33\n",
      "loading weights of convolution #34\n",
      "loading weights of convolution #35\n",
      "no convolution #36\n",
      "loading weights of convolution #37\n",
      "loading weights of convolution #38\n",
      "loading weights of convolution #39\n",
      "no convolution #40\n",
      "loading weights of convolution #41\n",
      "loading weights of convolution #42\n",
      "no convolution #43\n",
      "loading weights of convolution #44\n",
      "loading weights of convolution #45\n",
      "no convolution #46\n",
      "loading weights of convolution #47\n",
      "loading weights of convolution #48\n",
      "no convolution #49\n",
      "loading weights of convolution #50\n",
      "loading weights of convolution #51\n",
      "no convolution #52\n",
      "loading weights of convolution #53\n",
      "loading weights of convolution #54\n",
      "no convolution #55\n",
      "loading weights of convolution #56\n",
      "loading weights of convolution #57\n",
      "no convolution #58\n",
      "loading weights of convolution #59\n",
      "loading weights of convolution #60\n",
      "no convolution #61\n",
      "loading weights of convolution #62\n",
      "loading weights of convolution #63\n",
      "loading weights of convolution #64\n",
      "no convolution #65\n",
      "loading weights of convolution #66\n",
      "loading weights of convolution #67\n",
      "no convolution #68\n",
      "loading weights of convolution #69\n",
      "loading weights of convolution #70\n",
      "no convolution #71\n",
      "loading weights of convolution #72\n",
      "loading weights of convolution #73\n",
      "no convolution #74\n",
      "loading weights of convolution #75\n",
      "loading weights of convolution #76\n",
      "loading weights of convolution #77\n",
      "loading weights of convolution #78\n",
      "loading weights of convolution #79\n",
      "loading weights of convolution #80\n",
      "loading weights of convolution #81\n",
      "no convolution #82\n",
      "no convolution #83\n",
      "loading weights of convolution #84\n",
      "no convolution #85\n",
      "no convolution #86\n",
      "loading weights of convolution #87\n",
      "loading weights of convolution #88\n",
      "loading weights of convolution #89\n",
      "loading weights of convolution #90\n",
      "loading weights of convolution #91\n",
      "loading weights of convolution #92\n",
      "loading weights of convolution #93\n",
      "no convolution #94\n",
      "no convolution #95\n",
      "loading weights of convolution #96\n",
      "no convolution #97\n",
      "no convolution #98\n",
      "loading weights of convolution #99\n",
      "loading weights of convolution #100\n",
      "loading weights of convolution #101\n",
      "loading weights of convolution #102\n",
      "loading weights of convolution #103\n",
      "loading weights of convolution #104\n",
      "loading weights of convolution #105\n"
     ]
    }
   ],
   "source": [
    "#Load the predictor model\n",
    "predictor = Predictor('yolov3.weights', obj_thresh=0.5)"
   ]
  },
  {
   "cell_type": "code",
   "execution_count": 73,
   "id": "da7e3d2d-d81a-4a57-85dd-a7aba735980c",
   "metadata": {},
   "outputs": [
    {
     "data": {
      "text/html": [
       "<div>\n",
       "<style scoped>\n",
       "    .dataframe tbody tr th:only-of-type {\n",
       "        vertical-align: middle;\n",
       "    }\n",
       "\n",
       "    .dataframe tbody tr th {\n",
       "        vertical-align: top;\n",
       "    }\n",
       "\n",
       "    .dataframe thead th {\n",
       "        text-align: right;\n",
       "    }\n",
       "</style>\n",
       "<table border=\"1\" class=\"dataframe\">\n",
       "  <thead>\n",
       "    <tr style=\"text-align: right;\">\n",
       "      <th></th>\n",
       "      <th>IMG_ID</th>\n",
       "      <th>Type</th>\n",
       "      <th>Shrink</th>\n",
       "      <th>Age</th>\n",
       "      <th>Avg_Weight</th>\n",
       "      <th>Tot_Weight</th>\n",
       "      <th>Hauled</th>\n",
       "      <th>Weaned</th>\n",
       "      <th>Feed</th>\n",
       "      <th>Health</th>\n",
       "    </tr>\n",
       "  </thead>\n",
       "  <tbody>\n",
       "  </tbody>\n",
       "</table>\n",
       "</div>"
      ],
      "text/plain": [
       "Empty DataFrame\n",
       "Columns: [IMG_ID, Type, Shrink, Age, Avg_Weight, Tot_Weight, Hauled, Weaned, Feed, Health]\n",
       "Index: []"
      ]
     },
     "execution_count": 73,
     "metadata": {},
     "output_type": "execute_result"
    }
   ],
   "source": [
    "#Look at some of the data\n",
    "df[df.Avg_Weight == '238']"
   ]
  },
  {
   "cell_type": "code",
   "execution_count": 6,
   "id": "08a76447-1600-45f9-96c3-f76801dd55b9",
   "metadata": {},
   "outputs": [],
   "source": [
    "p = pd.DataFrame(predictor.predict_info(in_path='img/im_540.png'))"
   ]
  },
  {
   "cell_type": "code",
   "execution_count": 8,
   "id": "86bc9c71-3516-494f-9961-7d781f898277",
   "metadata": {},
   "outputs": [
    {
     "data": {
      "text/html": [
       "<div>\n",
       "<style scoped>\n",
       "    .dataframe tbody tr th:only-of-type {\n",
       "        vertical-align: middle;\n",
       "    }\n",
       "\n",
       "    .dataframe tbody tr th {\n",
       "        vertical-align: top;\n",
       "    }\n",
       "\n",
       "    .dataframe thead th {\n",
       "        text-align: right;\n",
       "    }\n",
       "</style>\n",
       "<table border=\"1\" class=\"dataframe\">\n",
       "  <thead>\n",
       "    <tr style=\"text-align: right;\">\n",
       "      <th></th>\n",
       "      <th>Label</th>\n",
       "      <th>Prob</th>\n",
       "      <th>Box</th>\n",
       "    </tr>\n",
       "  </thead>\n",
       "  <tbody>\n",
       "    <tr>\n",
       "      <th>0</th>\n",
       "      <td>cow</td>\n",
       "      <td>0.969878</td>\n",
       "      <td>{'x': (175, 142), 'y': (288, 241)}</td>\n",
       "    </tr>\n",
       "    <tr>\n",
       "      <th>2</th>\n",
       "      <td>cow</td>\n",
       "      <td>0.531093</td>\n",
       "      <td>{'x': (69, 133), 'y': (125, 261)}</td>\n",
       "    </tr>\n",
       "    <tr>\n",
       "      <th>3</th>\n",
       "      <td>cow</td>\n",
       "      <td>0.810475</td>\n",
       "      <td>{'x': (290, 153), 'y': (385, 284)}</td>\n",
       "    </tr>\n",
       "  </tbody>\n",
       "</table>\n",
       "</div>"
      ],
      "text/plain": [
       "  Label      Prob                                 Box\n",
       "0   cow  0.969878  {'x': (175, 142), 'y': (288, 241)}\n",
       "2   cow  0.531093   {'x': (69, 133), 'y': (125, 261)}\n",
       "3   cow  0.810475  {'x': (290, 153), 'y': (385, 284)}"
      ]
     },
     "execution_count": 8,
     "metadata": {},
     "output_type": "execute_result"
    }
   ],
   "source": [
    "p[p.Label=='cow']"
   ]
  },
  {
   "cell_type": "code",
   "execution_count": 4,
   "id": "d95cf513-fa32-4d91-8bb0-c6f53d28723e",
   "metadata": {},
   "outputs": [
    {
     "data": {
      "text/html": [
       "<div>\n",
       "<style scoped>\n",
       "    .dataframe tbody tr th:only-of-type {\n",
       "        vertical-align: middle;\n",
       "    }\n",
       "\n",
       "    .dataframe tbody tr th {\n",
       "        vertical-align: top;\n",
       "    }\n",
       "\n",
       "    .dataframe thead th {\n",
       "        text-align: right;\n",
       "    }\n",
       "</style>\n",
       "<table border=\"1\" class=\"dataframe\">\n",
       "  <thead>\n",
       "    <tr style=\"text-align: right;\">\n",
       "      <th></th>\n",
       "      <th>IMG_ID</th>\n",
       "      <th>Type</th>\n",
       "      <th>Shrink</th>\n",
       "      <th>Age</th>\n",
       "      <th>Avg_Weight</th>\n",
       "      <th>Tot_Weight</th>\n",
       "      <th>Hauled</th>\n",
       "      <th>Weaned</th>\n",
       "      <th>Feed</th>\n",
       "      <th>Health</th>\n",
       "    </tr>\n",
       "  </thead>\n",
       "  <tbody>\n",
       "    <tr>\n",
       "      <th>1</th>\n",
       "      <td>0</td>\n",
       "      <td>5 WHT HEIFER</td>\n",
       "      <td>3</td>\n",
       "      <td></td>\n",
       "      <td>689</td>\n",
       "      <td>3444</td>\n",
       "      <td>15KM</td>\n",
       "      <td></td>\n",
       "      <td>COWS, GRASS (NO CREEP)</td>\n",
       "      <td>EXPRESS FP5 W/ SOMNUGEN, COVEXIN PLUS, IVOMEC-...</td>\n",
       "    </tr>\n",
       "    <tr>\n",
       "      <th>2</th>\n",
       "      <td>1</td>\n",
       "      <td>5 WHT HEIFER</td>\n",
       "      <td>3</td>\n",
       "      <td></td>\n",
       "      <td>689</td>\n",
       "      <td>3444</td>\n",
       "      <td>15KM</td>\n",
       "      <td></td>\n",
       "      <td>COWS, GRASS (NO CREEP)</td>\n",
       "      <td>EXPRESS FP5 W/ SOMNUGEN, COVEXIN PLUS, IVOMEC-...</td>\n",
       "    </tr>\n",
       "    <tr>\n",
       "      <th>3</th>\n",
       "      <td>2</td>\n",
       "      <td>5 WHT HEIFER</td>\n",
       "      <td>3</td>\n",
       "      <td></td>\n",
       "      <td>689</td>\n",
       "      <td>3444</td>\n",
       "      <td>15KM</td>\n",
       "      <td></td>\n",
       "      <td>COWS, GRASS (NO CREEP)</td>\n",
       "      <td>EXPRESS FP5 W/ SOMNUGEN, COVEXIN PLUS, IVOMEC-...</td>\n",
       "    </tr>\n",
       "    <tr>\n",
       "      <th>4</th>\n",
       "      <td>3</td>\n",
       "      <td>5 WHT HEIFER</td>\n",
       "      <td>3</td>\n",
       "      <td></td>\n",
       "      <td>689</td>\n",
       "      <td>3444</td>\n",
       "      <td>15KM</td>\n",
       "      <td></td>\n",
       "      <td>COWS, GRASS (NO CREEP)</td>\n",
       "      <td>EXPRESS FP5 W/ SOMNUGEN, COVEXIN PLUS, IVOMEC-...</td>\n",
       "    </tr>\n",
       "    <tr>\n",
       "      <th>5</th>\n",
       "      <td>4</td>\n",
       "      <td>5 WHT HEIFER</td>\n",
       "      <td>3</td>\n",
       "      <td></td>\n",
       "      <td>689</td>\n",
       "      <td>3444</td>\n",
       "      <td>15KM</td>\n",
       "      <td></td>\n",
       "      <td>COWS, GRASS (NO CREEP)</td>\n",
       "      <td>EXPRESS FP5 W/ SOMNUGEN, COVEXIN PLUS, IVOMEC-...</td>\n",
       "    </tr>\n",
       "  </tbody>\n",
       "</table>\n",
       "</div>"
      ],
      "text/plain": [
       "  IMG_ID          Type Shrink Age Avg_Weight Tot_Weight Hauled Weaned  \\\n",
       "1      0  5 WHT HEIFER      3            689       3444   15KM          \n",
       "2      1  5 WHT HEIFER      3            689       3444   15KM          \n",
       "3      2  5 WHT HEIFER      3            689       3444   15KM          \n",
       "4      3  5 WHT HEIFER      3            689       3444   15KM          \n",
       "5      4  5 WHT HEIFER      3            689       3444   15KM          \n",
       "\n",
       "                     Feed                                             Health  \n",
       "1  COWS, GRASS (NO CREEP)  EXPRESS FP5 W/ SOMNUGEN, COVEXIN PLUS, IVOMEC-...  \n",
       "2  COWS, GRASS (NO CREEP)  EXPRESS FP5 W/ SOMNUGEN, COVEXIN PLUS, IVOMEC-...  \n",
       "3  COWS, GRASS (NO CREEP)  EXPRESS FP5 W/ SOMNUGEN, COVEXIN PLUS, IVOMEC-...  \n",
       "4  COWS, GRASS (NO CREEP)  EXPRESS FP5 W/ SOMNUGEN, COVEXIN PLUS, IVOMEC-...  \n",
       "5  COWS, GRASS (NO CREEP)  EXPRESS FP5 W/ SOMNUGEN, COVEXIN PLUS, IVOMEC-...  "
      ]
     },
     "execution_count": 4,
     "metadata": {},
     "output_type": "execute_result"
    }
   ],
   "source": [
    "df[df.Avg_Weight > '500'].head()"
   ]
  },
  {
   "cell_type": "markdown",
   "id": "d2d40fad-3012-4396-a090-9023247c0d77",
   "metadata": {},
   "source": [
    "# Functions for handling the dataset <a class=\"anchor\" id=\"functions\"></a>"
   ]
  },
  {
   "cell_type": "code",
   "execution_count": 7,
   "id": "a6a96679-0eab-4586-bf39-2cd2b41e905c",
   "metadata": {},
   "outputs": [],
   "source": [
    "# remove any 'lbs' suffixes from Avg_Weight and Total_Weight columns\n",
    "def remove_lbs(s):\n",
    "    return s[:-3]\n",
    "\n",
    "df.Avg_Weight[df.Avg_Weight.str.endswith('lbs')] = df.Avg_Weight[df.Avg_Weight.str.endswith('lbs')].apply(remove_lbs)\n",
    "df.Tot_Weight[df.Tot_Weight.str.endswith('lbs')] = df.Tot_Weight[df.Tot_Weight.str.endswith('lbs')].apply(remove_lbs)"
   ]
  },
  {
   "cell_type": "markdown",
   "id": "80b2c15b-a459-456d-a31a-ad86bf18761b",
   "metadata": {},
   "source": [
    "## Save Dataset <a class=\"anchor\" id=\"save\"></a>"
   ]
  },
  {
   "cell_type": "code",
   "execution_count": 10,
   "id": "ba05eaa5-fd3d-48fa-87d9-ef55ddab70a1",
   "metadata": {},
   "outputs": [],
   "source": [
    "with open(os.path.join(DATABASE_LOCATION, DATASET), 'w') as file:\n",
    "    df_to_save = df.to_json(orient=\"records\")\n",
    "    parsed = json.loads(df_to_save)\n",
    "    json.dump(parsed, file)"
   ]
  },
  {
   "cell_type": "markdown",
   "id": "bc32ecc0-ec03-42f5-be0e-4dee303807d8",
   "metadata": {},
   "source": [
    "## Handling Pictures <a class=\"anchor\" id=\"pictures\"></a>\n",
    "In many cases it is the images within the dataset that we want to work on. This is not a strait-forward process since there is no image processing capabilities in the pandas library and the images are stored outside the pandas frame. \n",
    "For these operations we will use the OpenCV library functions and apply them to the dataset with the pandas 'apply()' function. \n",
    "This is an efficient way to excecute operations on many images at once. <br>Keep in mind, any image manipulations performed will replace the existing image in the dataset. \n",
    "\n",
    "INSTRUCTIONS:\n",
    "1. Select the data in the pandas frame:\n",
    ">example: `selected_data = df[df.Avg_Weights > '500']`\n",
    "2. Apply the desired image function on the IMG_ID column\n",
    ">example: `selected_data.IMG_ID.apply(bw_img)`\n"
   ]
  },
  {
   "cell_type": "code",
   "execution_count": 34,
   "id": "93e5ac1e-de16-4d1e-bddf-198be4e7b632",
   "metadata": {},
   "outputs": [],
   "source": [
    "def bw_img(im_id):\n",
    "    image = cv2.imread('{}/im_{}.png'.format(INPUT_PATH, im_id))\n",
    "    grayscale = cv2.cvtColor(image, cv2.COLOR_BGR2GRAY)\n",
    "    cv2.imwrite('bw/im_{}.png'.format(im_id), grayscale)"
   ]
  },
  {
   "cell_type": "code",
   "execution_count": 43,
   "id": "442ed42d-59a7-46f7-be7f-8ea18a8b8312",
   "metadata": {},
   "outputs": [],
   "source": [
    "# return a boolean of image existance\n",
    "def has_image(img_id):\n",
    "    return os.path.exists('{}/im_{}.png'.format(INPUT_PATH, img_id))"
   ]
  },
  {
   "cell_type": "code",
   "execution_count": null,
   "id": "9fd2e30a-f9ba-4ee6-ab59-2d5205887870",
   "metadata": {},
   "outputs": [],
   "source": [
    "def show_prediction(im_id):\n",
    "    predictor.predict(in_path='{}/im_{}.png'.format(INPUT_PATH, im_id), out_path='{}/im_{}.png'.format(OUTPUT_PATH, im_id))"
   ]
  },
  {
   "cell_type": "code",
   "execution_count": 41,
   "id": "e9b36d42-2073-429a-8e16-ef67b93467ff",
   "metadata": {},
   "outputs": [],
   "source": [
    "def del_img(im_id):\n",
    "    os.remove('{}/im_{}.png'.format(INPUT_PATH, im_id))"
   ]
  },
  {
   "cell_type": "code",
   "execution_count": 40,
   "id": "230e47d7-5b51-4c03-a711-5835a5f5a0f4",
   "metadata": {},
   "outputs": [
    {
     "name": "stdout",
     "output_type": "stream",
     "text": [
      "Runtime: 0.0\n"
     ]
    }
   ],
   "source": [
    "\n",
    "start = time()\n",
    "\n",
    "end = time()\n",
    "print('Runtime: {}'.format(end-start))"
   ]
  },
  {
   "cell_type": "markdown",
   "id": "16ecaa19-03f6-4bcd-a960-0af0733a3fe6",
   "metadata": {},
   "source": [
    "## Delete Specific Data Points"
   ]
  },
  {
   "cell_type": "code",
   "execution_count": null,
   "id": "b9efcca5-f328-4971-9ae1-87bb06dd4220",
   "metadata": {},
   "outputs": [],
   "source": [
    "def del_datapoint(d, img_id):\n",
    "    \n",
    "    #delete image\n",
    "    os.remove(os.path.join(INPUT_PATH, 'im_'+str(img_id)+'.png'))\n",
    "    \n",
    "    #delete point in dataframe\n",
    "    del d[d.IMG_ID==str(img_id)]\n",
    "    "
   ]
  },
  {
   "cell_type": "markdown",
   "id": "6007afdb-b1fa-4d8d-bdc2-0f0204f879a9",
   "metadata": {},
   "source": [
    "### Remove datapoints with no images"
   ]
  },
  {
   "cell_type": "code",
   "execution_count": 69,
   "id": "2b946611-e2c2-44cf-b915-5608f4aec902",
   "metadata": {},
   "outputs": [
    {
     "name": "stdout",
     "output_type": "stream",
     "text": [
      "Runtime: 0.7481637001037598\n"
     ]
    },
    {
     "data": {
      "text/plain": [
       "20772"
      ]
     },
     "execution_count": 69,
     "metadata": {},
     "output_type": "execute_result"
    }
   ],
   "source": [
    "start = time()\n",
    "df = df[df.IMG_ID.apply(has_image)]\n",
    "end = time()\n",
    "print('Runtime: {}'.format(end-start))\n",
    "len(df)"
   ]
  },
  {
   "cell_type": "markdown",
   "id": "2049f2ba-8874-433f-b71b-267f963dff99",
   "metadata": {},
   "source": [
    "## Delete entries with no weight data"
   ]
  },
  {
   "cell_type": "code",
   "execution_count": null,
   "id": "5cb2247e-258f-434a-b982-cbbd7d847dee",
   "metadata": {},
   "outputs": [],
   "source": [
    "def del_non_weight_data(d):\n",
    "    \n",
    "    delframe = d['Avg_Weight']\n",
    "    "
   ]
  },
  {
   "cell_type": "markdown",
   "id": "27321283-ac8b-4cf3-beca-6f0986ee45b2",
   "metadata": {},
   "source": [
    "## Deleting images with no cows:"
   ]
  },
  {
   "cell_type": "code",
   "execution_count": null,
   "id": "9d1296ca-adca-4f4b-942e-fd3a1881feaf",
   "metadata": {},
   "outputs": [],
   "source": [
    "im_names = os.listdir(INPUT_PATH)\n",
    "execution_path = os.getcwd()\n",
    "detector = ObjectDetection()\n",
    "detector.setModelTypeAsRetinaNet()\n",
    "detector.setModelPath(os.path.join(execution_path , \"resnet50_coco_best_v2.1.0.h5\"))\n",
    "detector.loadModel()\n",
    "\n",
    "for name in im_names:\n",
    " \n",
    "\n",
    "    detections = detector.detectObjectsFromImage(input_image=os.path.join(execution_path , 'img/'+name), output_image_path=os.path.join(execution_path ,'out/'+name))\n",
    "\n",
    "    for eachObject in detections:\n",
    "        print(eachObject[\"name\"] , \" : \" , eachObject[\"percentage_probability\"] )"
   ]
  }
 ],
 "metadata": {
  "kernelspec": {
   "display_name": "cattle_env",
   "language": "python",
   "name": "cattle_env"
  },
  "language_info": {
   "codemirror_mode": {
    "name": "ipython",
    "version": 3
   },
   "file_extension": ".py",
   "mimetype": "text/x-python",
   "name": "python",
   "nbconvert_exporter": "python",
   "pygments_lexer": "ipython3",
   "version": "3.8.8"
  }
 },
 "nbformat": 4,
 "nbformat_minor": 5
}
